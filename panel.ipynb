{
 "cells": [
  {
   "cell_type": "code",
   "execution_count": 19,
   "id": "b88ea1f8",
   "metadata": {},
   "outputs": [],
   "source": [
    "#pip install dash"
   ]
  },
  {
   "cell_type": "code",
   "execution_count": 1,
   "id": "f4cb38ba",
   "metadata": {},
   "outputs": [
    {
     "name": "stdout",
     "output_type": "stream",
     "text": [
      "Launching server at http://localhost:63968\n"
     ]
    },
    {
     "data": {
      "text/plain": [
       "<panel.io.server.Server at 0x1b4f25c81f0>"
      ]
     },
     "execution_count": 1,
     "metadata": {},
     "output_type": "execute_result"
    }
   ],
   "source": [
    "import pandas as pd\n",
    "import panel as pn\n",
    "import plotly.graph_objects as go\n",
    "\n",
    "# Read the CSV file into a DataFrame\n",
    "data = pd.read_csv('TwitterDataSentiments.csv', parse_dates=['Date'])\n",
    "\n",
    "# Create interactive components using Panel\n",
    "histogram = go.Figure()\n",
    "\n",
    "# Create radio button widget\n",
    "radio_button = pn.widgets.RadioButtonGroup(\n",
    "    name='Select Time Range',\n",
    "    options=[\"1 week\", \"1 month\", \"3 mont\"],\n",
    "    ##button_type='default'\n",
    "    button_type = 'success'\n",
    ")\n",
    "\n",
    "# Define a callback function for the radio button\n",
    "def update_histogram(event):\n",
    "    selected_range = radio_button.value\n",
    "\n",
    "    if selected_range == \"1 week\":\n",
    "        filtered_data = data[data['Date'] >= data['Date'].max() - pd.DateOffset(weeks=1)]\n",
    "    elif selected_range == \"1 month\":\n",
    "        filtered_data = data[data['Date'] >= data['Date'].max() - pd.DateOffset(months=1)]\n",
    "    elif selected_range == \"1 year\":\n",
    "        filtered_data = data[data['Date'] >= data['Date'].max() - pd.DateOffset(months=3)]\n",
    "    else:\n",
    "        filtered_data = data\n",
    "\n",
    "    histogram.data = []\n",
    "    for sentiment in filtered_data['sentiments'].unique():\n",
    "        sentiment_data = filtered_data[filtered_data['sentiments'] == sentiment]\n",
    "        histogram.add_trace(go.Histogram(x=sentiment_data['Date'], name=sentiment, nbinsx=30))\n",
    "\n",
    "    histogram.update_layout(\n",
    "        barmode='stack',\n",
    "        #barmode='relative',\n",
    "        xaxis_title='Date',\n",
    "        yaxis_title='Count',\n",
    "        showlegend=True\n",
    "    )\n",
    "\n",
    "# Register the callback with the radio button\n",
    "radio_button.param.watch(update_histogram, 'value')\n",
    "\n",
    "# Create a Panel layout\n",
    "dashboard = pn.Column(\n",
    "    '# Interactive Dashboard\\n select one',\n",
    "    pn.Row(radio_button),\n",
    "    pn.pane.Plotly(histogram),\n",
    ")\n",
    "dashboard.show()"
   ]
  },
  {
   "cell_type": "code",
   "execution_count": null,
   "id": "55ede5ac",
   "metadata": {},
   "outputs": [],
   "source": []
  }
 ],
 "metadata": {
  "kernelspec": {
   "display_name": "Python 3 (ipykernel)",
   "language": "python",
   "name": "python3"
  },
  "language_info": {
   "codemirror_mode": {
    "name": "ipython",
    "version": 3
   },
   "file_extension": ".py",
   "mimetype": "text/x-python",
   "name": "python",
   "nbconvert_exporter": "python",
   "pygments_lexer": "ipython3",
   "version": "3.10.9"
  }
 },
 "nbformat": 4,
 "nbformat_minor": 5
}
