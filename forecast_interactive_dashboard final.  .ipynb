{
 "cells": [
  {
   "cell_type": "code",
   "execution_count": 2,
   "id": "cadc1bde",
   "metadata": {},
   "outputs": [],
   "source": [
    "#pip install dash"
   ]
  },
  {
   "cell_type": "code",
   "execution_count": 8,
   "id": "cf18c9c3",
   "metadata": {},
   "outputs": [],
   "source": [
    "import pandas as pd\n",
    "from statsmodels.tsa.arima.model import ARIMA\n",
    "import dash\n",
    "import dash_core_components as dcc\n",
    "#import dash_html_components as html\n",
    "from dash import html\n",
    "import plotly.graph_objects as go\n"
   ]
  },
  {
   "cell_type": "code",
   "execution_count": 9,
   "id": "a750013b",
   "metadata": {},
   "outputs": [],
   "source": [
    "# Load the dataset\n",
    "data = pd.read_csv('SentimentsSplit.csv')\n",
    "# Prepare the dataset\n",
    "df = pd.DataFrame()\n",
    "df['Date'] = pd.to_datetime(data['Date'])\n",
    "df['Sentiments'] = pd.to_numeric(data['sentiments'], errors='coerce')"
   ]
  },
  {
   "cell_type": "code",
   "execution_count": 10,
   "id": "d5e4d875",
   "metadata": {},
   "outputs": [
    {
     "name": "stderr",
     "output_type": "stream",
     "text": [
      "C:\\Users\\Daniel\\anaconda4\\lib\\site-packages\\statsmodels\\tsa\\base\\tsa_model.py:471: ValueWarning: A date index has been provided, but it has no associated frequency information and so will be ignored when e.g. forecasting.\n",
      "  self._init_dates(dates, freq)\n",
      "C:\\Users\\Daniel\\anaconda4\\lib\\site-packages\\statsmodels\\tsa\\base\\tsa_model.py:471: ValueWarning: A date index has been provided, but it is not monotonic and so will be ignored when e.g. forecasting.\n",
      "  self._init_dates(dates, freq)\n",
      "C:\\Users\\Daniel\\anaconda4\\lib\\site-packages\\statsmodels\\tsa\\base\\tsa_model.py:471: ValueWarning: A date index has been provided, but it has no associated frequency information and so will be ignored when e.g. forecasting.\n",
      "  self._init_dates(dates, freq)\n",
      "C:\\Users\\Daniel\\anaconda4\\lib\\site-packages\\statsmodels\\tsa\\base\\tsa_model.py:471: ValueWarning: A date index has been provided, but it is not monotonic and so will be ignored when e.g. forecasting.\n",
      "  self._init_dates(dates, freq)\n",
      "C:\\Users\\Daniel\\anaconda4\\lib\\site-packages\\statsmodels\\tsa\\base\\tsa_model.py:471: ValueWarning: A date index has been provided, but it has no associated frequency information and so will be ignored when e.g. forecasting.\n",
      "  self._init_dates(dates, freq)\n",
      "C:\\Users\\Daniel\\anaconda4\\lib\\site-packages\\statsmodels\\tsa\\base\\tsa_model.py:471: ValueWarning: A date index has been provided, but it is not monotonic and so will be ignored when e.g. forecasting.\n",
      "  self._init_dates(dates, freq)\n",
      "C:\\Users\\Daniel\\anaconda4\\lib\\site-packages\\statsmodels\\tsa\\statespace\\sarimax.py:866: UserWarning: Too few observations to estimate starting parameters for ARMA and trend. All parameters except for variances will be set to zeros.\n",
      "  warn('Too few observations to estimate starting parameters%s.'\n",
      "C:\\Users\\Daniel\\anaconda4\\lib\\site-packages\\statsmodels\\tsa\\base\\tsa_model.py:834: ValueWarning: No supported index is available. Prediction results will be given with an integer index beginning at `start`.\n",
      "  return get_prediction_index(\n"
     ]
    }
   ],
   "source": [
    "# Set the index as the date column\n",
    "df.set_index('Date', inplace=True)\n",
    "\n",
    "# Perform time-based forecasting\n",
    "model = ARIMA(df, order=(1, 1, 1))  # ARIMA(1, 1, 1) model\n",
    "model_fit = model.fit()\n",
    "\n",
    "# Make future predictions for 1 week\n",
    "forecast = model_fit.forecast(steps=3)\n",
    "\n",
    "# Access the forecasted sentiment values\n",
    "forecasted_sentiments = forecast  # Assign the entire forecast array to forecasted_sentiments\n"
   ]
  },
  {
   "cell_type": "code",
   "execution_count": 11,
   "id": "24c7530b",
   "metadata": {},
   "outputs": [
    {
     "name": "stdout",
     "output_type": "stream",
     "text": [
      "Dash is running on http://127.0.0.1:8050/\n",
      "\n",
      " * Serving Flask app '__main__'\n",
      " * Debug mode: on\n"
     ]
    },
    {
     "ename": "SystemExit",
     "evalue": "1",
     "output_type": "error",
     "traceback": [
      "An exception has occurred, use %tb to see the full traceback.\n",
      "\u001b[1;31mSystemExit\u001b[0m\u001b[1;31m:\u001b[0m 1\n"
     ]
    },
    {
     "name": "stderr",
     "output_type": "stream",
     "text": [
      "C:\\Users\\Daniel\\anaconda4\\lib\\site-packages\\IPython\\core\\interactiveshell.py:3516: UserWarning:\n",
      "\n",
      "To exit: use 'exit', 'quit', or Ctrl-D.\n",
      "\n"
     ]
    }
   ],
   "source": [
    "# Create the Dash app\n",
    "app = dash.Dash(__name__)\n",
    "\n",
    "# Define the layout of the dashboard\n",
    "app.layout = html.Div(\n",
    "    children=[\n",
    "        html.H1('ARIMA Forecast Dashboard'),\n",
    "        html.Div(\n",
    "            children=[\n",
    "                dcc.Graph(\n",
    "                    figure=go.Figure(\n",
    "                        data=[\n",
    "                            go.Scatter(\n",
    "                                x=df.index,\n",
    "                                y=df['Sentiments'],\n",
    "                                name='Actual Sentiments',\n",
    "                                mode='lines',\n",
    "                            ),\n",
    "                            go.Scatter(\n",
    "                                x=forecast.index,\n",
    "                                y=forecasted_sentiments,\n",
    "                                name='Forecasted Sentiments',\n",
    "                                mode='lines',\n",
    "                            ),\n",
    "                        ],\n",
    "                        layout=go.Layout(\n",
    "                            title='Sentiment Forecast',\n",
    "                            xaxis={'title': 'Date'},\n",
    "                            yaxis={'title': 'Sentiment'},\n",
    "                            hovermode='x',\n",
    "                        ),\n",
    "                    ),\n",
    "                ),\n",
    "            ],\n",
    "            style={'width': '80%', 'margin': 'auto'},\n",
    "        ),\n",
    "    ]\n",
    ")\n",
    "\n",
    "# Run the Dash app\n",
    "if __name__ == '__main__':\n",
    "    app.run(debug=True)\n"
   ]
  },
  {
   "cell_type": "code",
   "execution_count": null,
   "id": "cb90fe7e",
   "metadata": {},
   "outputs": [],
   "source": [
    "#pip install --upgrade dash plotly"
   ]
  },
  {
   "cell_type": "code",
   "execution_count": null,
   "id": "0c9d86d2",
   "metadata": {},
   "outputs": [],
   "source": [
    "%tb"
   ]
  },
  {
   "cell_type": "code",
   "execution_count": 12,
   "id": "53a56bd4",
   "metadata": {},
   "outputs": [
    {
     "name": "stdout",
     "output_type": "stream",
     "text": [
      "Dash is running on http://127.0.0.1:8050/\n",
      "\n",
      " * Serving Flask app '__main__'\n",
      " * Debug mode: on\n"
     ]
    },
    {
     "ename": "SystemExit",
     "evalue": "1",
     "output_type": "error",
     "traceback": [
      "An exception has occurred, use %tb to see the full traceback.\n",
      "\u001b[1;31mSystemExit\u001b[0m\u001b[1;31m:\u001b[0m 1\n"
     ]
    },
    {
     "name": "stderr",
     "output_type": "stream",
     "text": [
      "C:\\Users\\Daniel\\anaconda4\\lib\\site-packages\\IPython\\core\\interactiveshell.py:3516: UserWarning:\n",
      "\n",
      "To exit: use 'exit', 'quit', or Ctrl-D.\n",
      "\n"
     ]
    }
   ],
   "source": [
    "import pandas as pd\n",
    "import numpy as np\n",
    "import dash\n",
    "import dash_core_components as dcc\n",
    "import dash_html_components as html\n",
    "import plotly.graph_objects as go\n",
    "from statsmodels.tsa.arima.model import ARIMA\n",
    "\n",
    "# Generate a random time series dataset\n",
    "np.random.seed(0)\n",
    "dates = pd.date_range(start='2022-01-01', end='2022-12-31', freq='D')\n",
    "data = np.random.randn(len(dates)).cumsum()\n",
    "df = pd.DataFrame({'Date': dates, 'Data': data})\n",
    "\n",
    "# Perform time series forecasting with ARIMA\n",
    "model = ARIMA(df['Data'], order=(1, 1, 1))\n",
    "model_fit = model.fit()\n",
    "forecast = model_fit.forecast(steps=30)\n",
    "\n",
    "# Create the Dash app\n",
    "app = dash.Dash(__name__)\n",
    "\n",
    "# Define the layout of the dashboard\n",
    "app.layout = html.Div(\n",
    "    children=[\n",
    "        html.H1('ARIMA Forecast Dashboard'),\n",
    "        dcc.Graph(\n",
    "            figure=go.Figure(\n",
    "                data=[\n",
    "                    go.Scatter(\n",
    "                        x=df['Date'],\n",
    "                        y=df['Data'],\n",
    "                        name='Actual Data',\n",
    "                        mode='lines',\n",
    "                    ),\n",
    "                    go.Scatter(\n",
    "                        x=pd.date_range(start=df['Date'].max(), periods=30, freq='D'),\n",
    "                        y=forecast,\n",
    "                        name='Forecasted Data',\n",
    "                        mode='lines',\n",
    "                    ),\n",
    "                ],\n",
    "                layout=go.Layout(\n",
    "                    title='Data Forecast',\n",
    "                    xaxis={'title': 'Date'},\n",
    "                    yaxis={'title': 'Data'},\n",
    "                    hovermode='x',\n",
    "                ),\n",
    "            ),\n",
    "        ),\n",
    "    ]\n",
    ")\n",
    "\n",
    "# Run the Dash app\n",
    "if __name__ == '__main__':\n",
    "    app.run_server(debug=True)\n"
   ]
  },
  {
   "cell_type": "code",
   "execution_count": null,
   "id": "b0cf3eb2",
   "metadata": {},
   "outputs": [],
   "source": []
  }
 ],
 "metadata": {
  "kernelspec": {
   "display_name": "Python 3 (ipykernel)",
   "language": "python",
   "name": "python3"
  },
  "language_info": {
   "codemirror_mode": {
    "name": "ipython",
    "version": 3
   },
   "file_extension": ".py",
   "mimetype": "text/x-python",
   "name": "python",
   "nbconvert_exporter": "python",
   "pygments_lexer": "ipython3",
   "version": "3.10.9"
  }
 },
 "nbformat": 4,
 "nbformat_minor": 5
}
