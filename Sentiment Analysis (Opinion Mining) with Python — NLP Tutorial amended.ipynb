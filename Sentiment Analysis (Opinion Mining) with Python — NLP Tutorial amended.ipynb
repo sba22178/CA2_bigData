{
 "cells": [
  {
   "cell_type": "code",
   "execution_count": 94,
   "id": "03dbd160",
   "metadata": {
    "scrolled": true
   },
   "outputs": [],
   "source": [
    "import pandas as pd\n",
    "import numpy as np\n",
    "import seaborn as sns\n",
    "import re\n",
    "import string\n",
    "from string import punctuation\n",
    "import matplotlib.pyplot as plt\n",
    "from sklearn.model_selection import train_test_split\n",
    "from sklearn.feature_extraction.text import CountVectorizer\n",
    "from sklearn.feature_extraction.text import TfidfTransformer\n",
    "import tensorflow as tf\n",
    "from tensorflow.keras.models import Sequential\n",
    "from tensorflow.keras.layers import Dense, Activation, Dropout\n",
    "from tensorflow.keras.callbacks import EarlyStopping "
   ]
  },
  {
   "cell_type": "code",
   "execution_count": 95,
   "id": "2a3c8911",
   "metadata": {},
   "outputs": [],
   "source": [
    "import sklearn.linear_model"
   ]
  },
  {
   "cell_type": "code",
   "execution_count": 96,
   "id": "708c5cc0",
   "metadata": {},
   "outputs": [],
   "source": [
    "import sklearn.metrics"
   ]
  },
  {
   "cell_type": "code",
   "execution_count": 97,
   "id": "36a94e39",
   "metadata": {},
   "outputs": [],
   "source": [
    "#pip install tensorflow\n"
   ]
  },
  {
   "cell_type": "code",
   "execution_count": 98,
   "id": "f9e05c51",
   "metadata": {},
   "outputs": [
    {
     "data": {
      "text/plain": [
       "'C:\\\\Users\\\\Daniel\\\\OneDrive\\\\Documents\\\\MScData\\\\Semester2\\\\CA2\\\\CA2_bigData'"
      ]
     },
     "execution_count": 98,
     "metadata": {},
     "output_type": "execute_result"
    }
   ],
   "source": [
    "pwd"
   ]
  },
  {
   "cell_type": "code",
   "execution_count": 99,
   "id": "559e53bc",
   "metadata": {},
   "outputs": [
    {
     "name": "stderr",
     "output_type": "stream",
     "text": [
      "C:\\Users\\Daniel\\AppData\\Local\\Temp\\ipykernel_11612\\2797416005.py:1: DtypeWarning: Columns (1) have mixed types. Specify dtype option on import or set low_memory=False.\n",
      "  df =pd.read_csv('TwitterDataSentiments.csv')\n"
     ]
    }
   ],
   "source": [
    "df =pd.read_csv('TwitterDataSentiments.csv')"
   ]
  },
  {
   "cell_type": "code",
   "execution_count": 100,
   "id": "a8771658",
   "metadata": {},
   "outputs": [
    {
     "data": {
      "text/html": [
       "<div>\n",
       "<style scoped>\n",
       "    .dataframe tbody tr th:only-of-type {\n",
       "        vertical-align: middle;\n",
       "    }\n",
       "\n",
       "    .dataframe tbody tr th {\n",
       "        vertical-align: top;\n",
       "    }\n",
       "\n",
       "    .dataframe thead th {\n",
       "        text-align: right;\n",
       "    }\n",
       "</style>\n",
       "<table border=\"1\" class=\"dataframe\">\n",
       "  <thead>\n",
       "    <tr style=\"text-align: right;\">\n",
       "      <th></th>\n",
       "      <th>Unnamed: 0</th>\n",
       "      <th>Date</th>\n",
       "      <th>Text</th>\n",
       "      <th>sentiments</th>\n",
       "    </tr>\n",
       "  </thead>\n",
       "  <tbody>\n",
       "    <tr>\n",
       "      <th>0</th>\n",
       "      <td>0</td>\n",
       "      <td>06/04/2009 22:19</td>\n",
       "      <td>switchfoot httptwitpiccomyzl a s bummer you sh...</td>\n",
       "      <td>Netural</td>\n",
       "    </tr>\n",
       "    <tr>\n",
       "      <th>1</th>\n",
       "      <td>1</td>\n",
       "      <td>06/04/2009 22:19</td>\n",
       "      <td>upset cant update facebook texting it might cr...</td>\n",
       "      <td>Netural</td>\n",
       "    </tr>\n",
       "    <tr>\n",
       "      <th>2</th>\n",
       "      <td>2</td>\n",
       "      <td>06/04/2009 22:19</td>\n",
       "      <td>kenichan i dived many times ball managed save ...</td>\n",
       "      <td>Positive</td>\n",
       "    </tr>\n",
       "    <tr>\n",
       "      <th>3</th>\n",
       "      <td>3</td>\n",
       "      <td>06/04/2009 22:19</td>\n",
       "      <td>whole body feels itchy like fire</td>\n",
       "      <td>Positive</td>\n",
       "    </tr>\n",
       "    <tr>\n",
       "      <th>4</th>\n",
       "      <td>4</td>\n",
       "      <td>06/04/2009 22:19</td>\n",
       "      <td>nationwideclass no not behaving all im mad her...</td>\n",
       "      <td>Negative</td>\n",
       "    </tr>\n",
       "    <tr>\n",
       "      <th>...</th>\n",
       "      <td>...</td>\n",
       "      <td>...</td>\n",
       "      <td>...</td>\n",
       "      <td>...</td>\n",
       "    </tr>\n",
       "    <tr>\n",
       "      <th>2097145</th>\n",
       "      <td>2097145</td>\n",
       "      <td>NaN</td>\n",
       "      <td>opened mouth insert foot chewed really hard ho...</td>\n",
       "      <td>Negative</td>\n",
       "    </tr>\n",
       "    <tr>\n",
       "      <th>2097146</th>\n",
       "      <td>2097146</td>\n",
       "      <td>NaN</td>\n",
       "      <td>trying move head potteringabout mode backtowor...</td>\n",
       "      <td>Netural</td>\n",
       "    </tr>\n",
       "    <tr>\n",
       "      <th>2097147</th>\n",
       "      <td>2097147</td>\n",
       "      <td>NaN</td>\n",
       "      <td>sick twice already im still going school feel ...</td>\n",
       "      <td>Negative</td>\n",
       "    </tr>\n",
       "    <tr>\n",
       "      <th>2097148</th>\n",
       "      <td>2097148</td>\n",
       "      <td>NaN</td>\n",
       "      <td>kherrylobrien boo ill blue side gotta keep mag...</td>\n",
       "      <td>Netural</td>\n",
       "    </tr>\n",
       "    <tr>\n",
       "      <th>2097149</th>\n",
       "      <td>2097149</td>\n",
       "      <td>NaN</td>\n",
       "      <td>love video cant uploaded chk it httpbitlyrhvko...</td>\n",
       "      <td>Positive</td>\n",
       "    </tr>\n",
       "  </tbody>\n",
       "</table>\n",
       "<p>2097150 rows × 4 columns</p>\n",
       "</div>"
      ],
      "text/plain": [
       "         Unnamed: 0              Date  \\\n",
       "0                 0  06/04/2009 22:19   \n",
       "1                 1  06/04/2009 22:19   \n",
       "2                 2  06/04/2009 22:19   \n",
       "3                 3  06/04/2009 22:19   \n",
       "4                 4  06/04/2009 22:19   \n",
       "...             ...               ...   \n",
       "2097145     2097145               NaN   \n",
       "2097146     2097146               NaN   \n",
       "2097147     2097147               NaN   \n",
       "2097148     2097148               NaN   \n",
       "2097149     2097149               NaN   \n",
       "\n",
       "                                                      Text sentiments  \n",
       "0        switchfoot httptwitpiccomyzl a s bummer you sh...    Netural  \n",
       "1        upset cant update facebook texting it might cr...    Netural  \n",
       "2        kenichan i dived many times ball managed save ...   Positive  \n",
       "3                         whole body feels itchy like fire   Positive  \n",
       "4        nationwideclass no not behaving all im mad her...   Negative  \n",
       "...                                                    ...        ...  \n",
       "2097145  opened mouth insert foot chewed really hard ho...   Negative  \n",
       "2097146  trying move head potteringabout mode backtowor...    Netural  \n",
       "2097147  sick twice already im still going school feel ...   Negative  \n",
       "2097148  kherrylobrien boo ill blue side gotta keep mag...    Netural  \n",
       "2097149  love video cant uploaded chk it httpbitlyrhvko...   Positive  \n",
       "\n",
       "[2097150 rows x 4 columns]"
      ]
     },
     "execution_count": 100,
     "metadata": {},
     "output_type": "execute_result"
    }
   ],
   "source": [
    "df"
   ]
  },
  {
   "cell_type": "code",
   "execution_count": 101,
   "id": "15473e6e",
   "metadata": {},
   "outputs": [],
   "source": [
    "df = df.drop(['Unnamed: 0', ],axis=1)\n",
    "df.dropna(inplace=True) "
   ]
  },
  {
   "cell_type": "code",
   "execution_count": 102,
   "id": "192b3fed",
   "metadata": {},
   "outputs": [
    {
     "data": {
      "text/html": [
       "<div>\n",
       "<style scoped>\n",
       "    .dataframe tbody tr th:only-of-type {\n",
       "        vertical-align: middle;\n",
       "    }\n",
       "\n",
       "    .dataframe tbody tr th {\n",
       "        vertical-align: top;\n",
       "    }\n",
       "\n",
       "    .dataframe thead th {\n",
       "        text-align: right;\n",
       "    }\n",
       "</style>\n",
       "<table border=\"1\" class=\"dataframe\">\n",
       "  <thead>\n",
       "    <tr style=\"text-align: right;\">\n",
       "      <th></th>\n",
       "      <th>Date</th>\n",
       "      <th>Text</th>\n",
       "      <th>sentiments</th>\n",
       "    </tr>\n",
       "  </thead>\n",
       "  <tbody>\n",
       "    <tr>\n",
       "      <th>0</th>\n",
       "      <td>06/04/2009 22:19</td>\n",
       "      <td>switchfoot httptwitpiccomyzl a s bummer you sh...</td>\n",
       "      <td>Netural</td>\n",
       "    </tr>\n",
       "    <tr>\n",
       "      <th>1</th>\n",
       "      <td>06/04/2009 22:19</td>\n",
       "      <td>upset cant update facebook texting it might cr...</td>\n",
       "      <td>Netural</td>\n",
       "    </tr>\n",
       "    <tr>\n",
       "      <th>2</th>\n",
       "      <td>06/04/2009 22:19</td>\n",
       "      <td>kenichan i dived many times ball managed save ...</td>\n",
       "      <td>Positive</td>\n",
       "    </tr>\n",
       "    <tr>\n",
       "      <th>3</th>\n",
       "      <td>06/04/2009 22:19</td>\n",
       "      <td>whole body feels itchy like fire</td>\n",
       "      <td>Positive</td>\n",
       "    </tr>\n",
       "    <tr>\n",
       "      <th>4</th>\n",
       "      <td>06/04/2009 22:19</td>\n",
       "      <td>nationwideclass no not behaving all im mad her...</td>\n",
       "      <td>Negative</td>\n",
       "    </tr>\n",
       "  </tbody>\n",
       "</table>\n",
       "</div>"
      ],
      "text/plain": [
       "               Date                                               Text  \\\n",
       "0  06/04/2009 22:19  switchfoot httptwitpiccomyzl a s bummer you sh...   \n",
       "1  06/04/2009 22:19  upset cant update facebook texting it might cr...   \n",
       "2  06/04/2009 22:19  kenichan i dived many times ball managed save ...   \n",
       "3  06/04/2009 22:19                   whole body feels itchy like fire   \n",
       "4  06/04/2009 22:19  nationwideclass no not behaving all im mad her...   \n",
       "\n",
       "  sentiments  \n",
       "0    Netural  \n",
       "1    Netural  \n",
       "2   Positive  \n",
       "3   Positive  \n",
       "4   Negative  "
      ]
     },
     "execution_count": 102,
     "metadata": {},
     "output_type": "execute_result"
    }
   ],
   "source": [
    "df = df[['Date','Text', 'sentiments']]\n",
    "df.head() \n"
   ]
  },
  {
   "cell_type": "code",
   "execution_count": 85,
   "id": "aaa589b4",
   "metadata": {},
   "outputs": [],
   "source": [
    "df1 = df.loc[(df.Text == 'work')]"
   ]
  },
  {
   "cell_type": "code",
   "execution_count": 87,
   "id": "a225bf9f",
   "metadata": {},
   "outputs": [
    {
     "data": {
      "text/html": [
       "<div>\n",
       "<style scoped>\n",
       "    .dataframe tbody tr th:only-of-type {\n",
       "        vertical-align: middle;\n",
       "    }\n",
       "\n",
       "    .dataframe tbody tr th {\n",
       "        vertical-align: top;\n",
       "    }\n",
       "\n",
       "    .dataframe thead th {\n",
       "        text-align: right;\n",
       "    }\n",
       "</style>\n",
       "<table border=\"1\" class=\"dataframe\">\n",
       "  <thead>\n",
       "    <tr style=\"text-align: right;\">\n",
       "      <th></th>\n",
       "      <th>Date</th>\n",
       "      <th>Text</th>\n",
       "      <th>sentiments</th>\n",
       "    </tr>\n",
       "  </thead>\n",
       "  <tbody>\n",
       "    <tr>\n",
       "      <th>870</th>\n",
       "      <td>06/04/2009 23:21</td>\n",
       "      <td>work</td>\n",
       "      <td>Netural</td>\n",
       "    </tr>\n",
       "    <tr>\n",
       "      <th>1985</th>\n",
       "      <td>07/04/2009 00:42</td>\n",
       "      <td>work</td>\n",
       "      <td>Netural</td>\n",
       "    </tr>\n",
       "    <tr>\n",
       "      <th>5863</th>\n",
       "      <td>07/04/2009 05:38</td>\n",
       "      <td>work</td>\n",
       "      <td>Netural</td>\n",
       "    </tr>\n",
       "    <tr>\n",
       "      <th>6219</th>\n",
       "      <td>07/04/2009 06:03</td>\n",
       "      <td>work</td>\n",
       "      <td>Netural</td>\n",
       "    </tr>\n",
       "    <tr>\n",
       "      <th>7344</th>\n",
       "      <td>07/04/2009 07:24</td>\n",
       "      <td>work</td>\n",
       "      <td>Netural</td>\n",
       "    </tr>\n",
       "    <tr>\n",
       "      <th>...</th>\n",
       "      <td>...</td>\n",
       "      <td>...</td>\n",
       "      <td>...</td>\n",
       "    </tr>\n",
       "    <tr>\n",
       "      <th>947747</th>\n",
       "      <td>16/05/2009 21:14</td>\n",
       "      <td>work</td>\n",
       "      <td>Netural</td>\n",
       "    </tr>\n",
       "    <tr>\n",
       "      <th>966748</th>\n",
       "      <td>17/05/2009 11:18</td>\n",
       "      <td>work</td>\n",
       "      <td>Netural</td>\n",
       "    </tr>\n",
       "    <tr>\n",
       "      <th>1007331</th>\n",
       "      <td>22/05/2009 02:09</td>\n",
       "      <td>work</td>\n",
       "      <td>Netural</td>\n",
       "    </tr>\n",
       "    <tr>\n",
       "      <th>1030555</th>\n",
       "      <td>26/05/2009 22:35</td>\n",
       "      <td>work</td>\n",
       "      <td>Netural</td>\n",
       "    </tr>\n",
       "    <tr>\n",
       "      <th>1038196</th>\n",
       "      <td>28/05/2009 22:18</td>\n",
       "      <td>work</td>\n",
       "      <td>Netural</td>\n",
       "    </tr>\n",
       "  </tbody>\n",
       "</table>\n",
       "<p>252 rows × 3 columns</p>\n",
       "</div>"
      ],
      "text/plain": [
       "                     Date  Text sentiments\n",
       "870      06/04/2009 23:21  work    Netural\n",
       "1985     07/04/2009 00:42  work    Netural\n",
       "5863     07/04/2009 05:38  work    Netural\n",
       "6219     07/04/2009 06:03  work    Netural\n",
       "7344     07/04/2009 07:24  work    Netural\n",
       "...                   ...   ...        ...\n",
       "947747   16/05/2009 21:14  work    Netural\n",
       "966748   17/05/2009 11:18  work    Netural\n",
       "1007331  22/05/2009 02:09  work    Netural\n",
       "1030555  26/05/2009 22:35  work    Netural\n",
       "1038196  28/05/2009 22:18  work    Netural\n",
       "\n",
       "[252 rows x 3 columns]"
      ]
     },
     "execution_count": 87,
     "metadata": {},
     "output_type": "execute_result"
    }
   ],
   "source": [
    "df1"
   ]
  },
  {
   "cell_type": "code",
   "execution_count": 86,
   "id": "f2cee6df",
   "metadata": {},
   "outputs": [
    {
     "data": {
      "text/plain": [
       "<Axes: xlabel='sentiments', ylabel='count'>"
      ]
     },
     "execution_count": 86,
     "metadata": {},
     "output_type": "execute_result"
    },
    {
     "data": {
      "image/png": "[encoded data removed]",
      "text/plain": [
       "<Figure size 640x480 with 1 Axes>"
      ]
     },
     "metadata": {},
     "output_type": "display_data"
    }
   ],
   "source": [
    "import seaborn as sns\n",
    "sns.set_style('whitegrid')\n",
    "sns.countplot(x='sentiments',data=df1,palette='YlGnBu_r')"
   ]
  },
  {
   "cell_type": "code",
   "execution_count": 46,
   "id": "5bcbf130",
   "metadata": {
    "scrolled": true
   },
   "outputs": [
    {
     "data": {
      "text/html": [
       "<div>\n",
       "<style scoped>\n",
       "    .dataframe tbody tr th:only-of-type {\n",
       "        vertical-align: middle;\n",
       "    }\n",
       "\n",
       "    .dataframe tbody tr th {\n",
       "        vertical-align: top;\n",
       "    }\n",
       "\n",
       "    .dataframe thead th {\n",
       "        text-align: right;\n",
       "    }\n",
       "</style>\n",
       "<table border=\"1\" class=\"dataframe\">\n",
       "  <thead>\n",
       "    <tr style=\"text-align: right;\">\n",
       "      <th></th>\n",
       "      <th>Date</th>\n",
       "      <th>Text</th>\n",
       "      <th>Negative</th>\n",
       "      <th>Netural</th>\n",
       "      <th>Positive</th>\n",
       "    </tr>\n",
       "  </thead>\n",
       "  <tbody>\n",
       "    <tr>\n",
       "      <th>0</th>\n",
       "      <td>06/04/2009 22:19</td>\n",
       "      <td>switchfoot httptwitpiccomyzl a s bummer you sh...</td>\n",
       "      <td>0</td>\n",
       "      <td>1</td>\n",
       "      <td>0</td>\n",
       "    </tr>\n",
       "    <tr>\n",
       "      <th>1</th>\n",
       "      <td>06/04/2009 22:19</td>\n",
       "      <td>upset cant update facebook texting it might cr...</td>\n",
       "      <td>0</td>\n",
       "      <td>1</td>\n",
       "      <td>0</td>\n",
       "    </tr>\n",
       "    <tr>\n",
       "      <th>2</th>\n",
       "      <td>06/04/2009 22:19</td>\n",
       "      <td>kenichan i dived many times ball managed save ...</td>\n",
       "      <td>0</td>\n",
       "      <td>0</td>\n",
       "      <td>1</td>\n",
       "    </tr>\n",
       "    <tr>\n",
       "      <th>3</th>\n",
       "      <td>06/04/2009 22:19</td>\n",
       "      <td>whole body feels itchy like fire</td>\n",
       "      <td>0</td>\n",
       "      <td>0</td>\n",
       "      <td>1</td>\n",
       "    </tr>\n",
       "    <tr>\n",
       "      <th>4</th>\n",
       "      <td>06/04/2009 22:19</td>\n",
       "      <td>nationwideclass no not behaving all im mad her...</td>\n",
       "      <td>1</td>\n",
       "      <td>0</td>\n",
       "      <td>0</td>\n",
       "    </tr>\n",
       "  </tbody>\n",
       "</table>\n",
       "</div>"
      ],
      "text/plain": [
       "               Date                                               Text  \\\n",
       "0  06/04/2009 22:19  switchfoot httptwitpiccomyzl a s bummer you sh...   \n",
       "1  06/04/2009 22:19  upset cant update facebook texting it might cr...   \n",
       "2  06/04/2009 22:19  kenichan i dived many times ball managed save ...   \n",
       "3  06/04/2009 22:19                   whole body feels itchy like fire   \n",
       "4  06/04/2009 22:19  nationwideclass no not behaving all im mad her...   \n",
       "\n",
       "   Negative  Netural  Positive  \n",
       "0         0        1         0  \n",
       "1         0        1         0  \n",
       "2         0        0         1  \n",
       "3         0        0         1  \n",
       "4         1        0         0  "
      ]
     },
     "execution_count": 46,
     "metadata": {},
     "output_type": "execute_result"
    }
   ],
   "source": [
    "one_hot = pd.get_dummies(df[\"sentiments\"])\n",
    "df.drop([\"sentiments\"],axis=1, inplace=True)\n",
    "df = pd.concat([df, one_hot], axis=1)\n",
    "df.head() \n"
   ]
  },
  {
   "cell_type": "code",
   "execution_count": 103,
   "id": "5e2edfce",
   "metadata": {},
   "outputs": [],
   "source": [
    "one_hot1 = pd.get_dummies(df[\"sentiments\"])\n",
    "#df.drop([\"sentiments\"],axis=1, inplace=True)\n",
    "dfSetimenets = pd.concat([df, one_hot], axis=1)"
   ]
  },
  {
   "cell_type": "code",
   "execution_count": 104,
   "id": "83517d46",
   "metadata": {},
   "outputs": [],
   "source": [
    "dfSetimenets.to_csv('SentimentsSplit.csv')"
   ]
  },
  {
   "cell_type": "code",
   "execution_count": 48,
   "id": "b7a9d380",
   "metadata": {},
   "outputs": [],
   "source": [
    "#sns.set_style('whitegrid')\n",
    "#'sns.countplot(x='Text',data=df,\n",
    "#palette='YlGnBu_r') "
   ]
  },
  {
   "cell_type": "code",
   "execution_count": 49,
   "id": "fe889b06",
   "metadata": {},
   "outputs": [],
   "source": [
    "df = df.drop([\"Date\"], axis=1)"
   ]
  },
  {
   "cell_type": "code",
   "execution_count": 50,
   "id": "4b879de5",
   "metadata": {},
   "outputs": [],
   "source": [
    "#df = df.head(10000)"
   ]
  },
  {
   "cell_type": "markdown",
   "id": "cb64ab5f",
   "metadata": {},
   "source": [
    "## take the topic "
   ]
  },
  {
   "cell_type": "code",
   "execution_count": 51,
   "id": "b6aebc24",
   "metadata": {},
   "outputs": [],
   "source": [
    "df = df.loc[(df.Text == 'work')]"
   ]
  },
  {
   "cell_type": "code",
   "execution_count": 74,
   "id": "3ad81cfb",
   "metadata": {},
   "outputs": [
    {
     "data": {
      "text/html": [
       "<div>\n",
       "<style scoped>\n",
       "    .dataframe tbody tr th:only-of-type {\n",
       "        vertical-align: middle;\n",
       "    }\n",
       "\n",
       "    .dataframe tbody tr th {\n",
       "        vertical-align: top;\n",
       "    }\n",
       "\n",
       "    .dataframe thead th {\n",
       "        text-align: right;\n",
       "    }\n",
       "</style>\n",
       "<table border=\"1\" class=\"dataframe\">\n",
       "  <thead>\n",
       "    <tr style=\"text-align: right;\">\n",
       "      <th></th>\n",
       "      <th>Text</th>\n",
       "      <th>Negative</th>\n",
       "      <th>Netural</th>\n",
       "      <th>Positive</th>\n",
       "    </tr>\n",
       "  </thead>\n",
       "  <tbody>\n",
       "    <tr>\n",
       "      <th>870</th>\n",
       "      <td>work</td>\n",
       "      <td>0</td>\n",
       "      <td>1</td>\n",
       "      <td>0</td>\n",
       "    </tr>\n",
       "    <tr>\n",
       "      <th>1985</th>\n",
       "      <td>work</td>\n",
       "      <td>0</td>\n",
       "      <td>1</td>\n",
       "      <td>0</td>\n",
       "    </tr>\n",
       "    <tr>\n",
       "      <th>5863</th>\n",
       "      <td>work</td>\n",
       "      <td>0</td>\n",
       "      <td>1</td>\n",
       "      <td>0</td>\n",
       "    </tr>\n",
       "    <tr>\n",
       "      <th>6219</th>\n",
       "      <td>work</td>\n",
       "      <td>0</td>\n",
       "      <td>1</td>\n",
       "      <td>0</td>\n",
       "    </tr>\n",
       "    <tr>\n",
       "      <th>7344</th>\n",
       "      <td>work</td>\n",
       "      <td>0</td>\n",
       "      <td>1</td>\n",
       "      <td>0</td>\n",
       "    </tr>\n",
       "    <tr>\n",
       "      <th>...</th>\n",
       "      <td>...</td>\n",
       "      <td>...</td>\n",
       "      <td>...</td>\n",
       "      <td>...</td>\n",
       "    </tr>\n",
       "    <tr>\n",
       "      <th>947747</th>\n",
       "      <td>work</td>\n",
       "      <td>0</td>\n",
       "      <td>1</td>\n",
       "      <td>0</td>\n",
       "    </tr>\n",
       "    <tr>\n",
       "      <th>966748</th>\n",
       "      <td>work</td>\n",
       "      <td>0</td>\n",
       "      <td>1</td>\n",
       "      <td>0</td>\n",
       "    </tr>\n",
       "    <tr>\n",
       "      <th>1007331</th>\n",
       "      <td>work</td>\n",
       "      <td>0</td>\n",
       "      <td>1</td>\n",
       "      <td>0</td>\n",
       "    </tr>\n",
       "    <tr>\n",
       "      <th>1030555</th>\n",
       "      <td>work</td>\n",
       "      <td>0</td>\n",
       "      <td>1</td>\n",
       "      <td>0</td>\n",
       "    </tr>\n",
       "    <tr>\n",
       "      <th>1038196</th>\n",
       "      <td>work</td>\n",
       "      <td>0</td>\n",
       "      <td>1</td>\n",
       "      <td>0</td>\n",
       "    </tr>\n",
       "  </tbody>\n",
       "</table>\n",
       "<p>252 rows × 4 columns</p>\n",
       "</div>"
      ],
      "text/plain": [
       "         Text  Negative  Netural  Positive\n",
       "870      work         0        1         0\n",
       "1985     work         0        1         0\n",
       "5863     work         0        1         0\n",
       "6219     work         0        1         0\n",
       "7344     work         0        1         0\n",
       "...       ...       ...      ...       ...\n",
       "947747   work         0        1         0\n",
       "966748   work         0        1         0\n",
       "1007331  work         0        1         0\n",
       "1030555  work         0        1         0\n",
       "1038196  work         0        1         0\n",
       "\n",
       "[252 rows x 4 columns]"
      ]
     },
     "execution_count": 74,
     "metadata": {},
     "output_type": "execute_result"
    }
   ],
   "source": [
    "df"
   ]
  },
  {
   "cell_type": "code",
   "execution_count": 52,
   "id": "ab1a4aaf",
   "metadata": {},
   "outputs": [],
   "source": [
    "X = df[\"Text\"].values\n",
    "y = df.drop([\"Text\"], axis=1).values\n",
    "#X_train, X_test, y_train, y_test = train_test_split(X, y, test_size=0.30, random_state=42) "
   ]
  },
  {
   "cell_type": "code",
   "execution_count": 53,
   "id": "f0e8f5cc",
   "metadata": {},
   "outputs": [],
   "source": [
    "X_train, X_test, y_train, y_test = train_test_split(X, y, test_size=0.30, random_state=42)"
   ]
  },
  {
   "cell_type": "code",
   "execution_count": 54,
   "id": "900fabc5",
   "metadata": {},
   "outputs": [],
   "source": [
    "#Apply vectorization:\n",
    "vect = CountVectorizer()\n",
    "X_train = vect.fit_transform(X_train)\n",
    "X_test = vect.transform(X_test) "
   ]
  },
  {
   "cell_type": "code",
   "execution_count": 55,
   "id": "e6d42999",
   "metadata": {},
   "outputs": [],
   "source": [
    "#Apply frequency, inverse document frequency:\n",
    "tfidf = TfidfTransformer()\n",
    "X_train = tfidf.fit_transform(X_train)\n",
    "X_test = tfidf.transform(X_test)\n",
    "X_train = X_train.toarray()\n",
    "X_test = X_test.toarray()"
   ]
  },
  {
   "cell_type": "code",
   "execution_count": 56,
   "id": "5a46d065",
   "metadata": {},
   "outputs": [],
   "source": [
    "#Build a Model with Deep Learning\n",
    "#Add different layers to models:\n",
    "model = Sequential()\n",
    "model.add(Dense(units=12673, activation=\"relu\"))\n",
    "model.add(Dropout(0.5))\n",
    "model.add(Dense(units=4000, activation=\"relu\"))\n",
    "model.add(Dropout(0.5))\n",
    "model.add(Dense(units=500, activation=\"relu\"))\n",
    "model.add(Dropout(0.5))\n",
    "model.add(Dense(units=3, activation=\"softmax\"))\n",
    "opt = tf.keras.optimizers.Adam(learning_rate=0.001)\n",
    "model.compile(loss=\"categorical_crossentropy\", optimizer=opt,\n",
    "metrics=[\"accuracy\"])\n",
    "early_stop = EarlyStopping(monitor=\"val_loss\", mode=\"min\", verbose=1,\n",
    "patience=2)"
   ]
  },
  {
   "cell_type": "code",
   "execution_count": 57,
   "id": "a49931e7",
   "metadata": {},
   "outputs": [
    {
     "name": "stdout",
     "output_type": "stream",
     "text": [
      "Epoch 1/100\n",
      "1/1 [==============================] - 6s 6s/step - loss: 1.0883 - accuracy: 0.4773 - val_loss: 0.0494 - val_accuracy: 1.0000\n",
      "Epoch 2/100\n",
      "1/1 [==============================] - 2s 2s/step - loss: 0.0537 - accuracy: 1.0000 - val_loss: 1.8000e-05 - val_accuracy: 1.0000\n",
      "Epoch 3/100\n",
      "1/1 [==============================] - 1s 936ms/step - loss: 3.5469e-05 - accuracy: 1.0000 - val_loss: 0.0000e+00 - val_accuracy: 1.0000\n",
      "Epoch 4/100\n",
      "1/1 [==============================] - 1s 1s/step - loss: 2.0320e-09 - accuracy: 1.0000 - val_loss: 0.0000e+00 - val_accuracy: 1.0000\n",
      "Epoch 5/100\n",
      "1/1 [==============================] - 1s 1s/step - loss: 0.0000e+00 - accuracy: 1.0000 - val_loss: 0.0000e+00 - val_accuracy: 1.0000\n",
      "Epoch 5: early stopping\n"
     ]
    },
    {
     "data": {
      "text/plain": [
       "<keras.callbacks.History at 0x228e9db3280>"
      ]
     },
     "execution_count": 57,
     "metadata": {},
     "output_type": "execute_result"
    }
   ],
   "source": [
    "#Fit the model:\n",
    "model.fit(x=X_train,y=y_train,batch_size=256,epochs=100,validation_data=(X_test, y_test),verbose=1,callbacks=early_stop,\n",
    ") "
   ]
  },
  {
   "cell_type": "code",
   "execution_count": 58,
   "id": "4b94ec05",
   "metadata": {},
   "outputs": [
    {
     "name": "stdout",
     "output_type": "stream",
     "text": [
      "2/2 [==============================] - 0s 21ms/step - loss: 0.0000e+00 - accuracy: 1.0000\n",
      "Test accuracy: 1.0\n"
     ]
    }
   ],
   "source": [
    "model_score = model.evaluate(X_test, y_test, batch_size=64, verbose=1)\n",
    "print(\"Test accuracy:\", model_score[1]) "
   ]
  },
  {
   "cell_type": "code",
   "execution_count": 60,
   "id": "3bf41fe7",
   "metadata": {},
   "outputs": [
    {
     "name": "stdout",
     "output_type": "stream",
     "text": [
      "3/3 [==============================] - 0s 24ms/step\n"
     ]
    },
    {
     "data": {
      "text/plain": [
       "array([[1.7538664e-19, 1.0000000e+00, 9.2225042e-20],\n",
       "       [1.7538664e-19, 1.0000000e+00, 9.2225042e-20],\n",
       "       [1.7538664e-19, 1.0000000e+00, 9.2225042e-20],\n",
       "       [1.7538664e-19, 1.0000000e+00, 9.2225042e-20],\n",
       "       [1.7538664e-19, 1.0000000e+00, 9.2225042e-20],\n",
       "       [1.7538664e-19, 1.0000000e+00, 9.2225042e-20],\n",
       "       [1.7538664e-19, 1.0000000e+00, 9.2225042e-20],\n",
       "       [1.7538664e-19, 1.0000000e+00, 9.2225042e-20],\n",
       "       [1.7538664e-19, 1.0000000e+00, 9.2225042e-20],\n",
       "       [1.7538664e-19, 1.0000000e+00, 9.2225042e-20],\n",
       "       [1.7538664e-19, 1.0000000e+00, 9.2225042e-20],\n",
       "       [1.7538664e-19, 1.0000000e+00, 9.2225042e-20],\n",
       "       [1.7538664e-19, 1.0000000e+00, 9.2225042e-20],\n",
       "       [1.7538664e-19, 1.0000000e+00, 9.2225042e-20],\n",
       "       [1.7538664e-19, 1.0000000e+00, 9.2225042e-20],\n",
       "       [1.7538664e-19, 1.0000000e+00, 9.2225042e-20],\n",
       "       [1.7538664e-19, 1.0000000e+00, 9.2225042e-20],\n",
       "       [1.7538664e-19, 1.0000000e+00, 9.2225042e-20],\n",
       "       [1.7538664e-19, 1.0000000e+00, 9.2225042e-20],\n",
       "       [1.7538664e-19, 1.0000000e+00, 9.2225042e-20],\n",
       "       [1.7538664e-19, 1.0000000e+00, 9.2225042e-20],\n",
       "       [1.7538664e-19, 1.0000000e+00, 9.2225042e-20],\n",
       "       [1.7538664e-19, 1.0000000e+00, 9.2225042e-20],\n",
       "       [1.7538664e-19, 1.0000000e+00, 9.2225042e-20],\n",
       "       [1.7538664e-19, 1.0000000e+00, 9.2225042e-20],\n",
       "       [1.7538664e-19, 1.0000000e+00, 9.2225042e-20],\n",
       "       [1.7538664e-19, 1.0000000e+00, 9.2225042e-20],\n",
       "       [1.7538664e-19, 1.0000000e+00, 9.2225042e-20],\n",
       "       [1.7538664e-19, 1.0000000e+00, 9.2225042e-20],\n",
       "       [1.7538664e-19, 1.0000000e+00, 9.2225042e-20],\n",
       "       [1.7538598e-19, 1.0000000e+00, 9.2225042e-20],\n",
       "       [1.7538598e-19, 1.0000000e+00, 9.2225042e-20],\n",
       "       [1.7538664e-19, 1.0000000e+00, 9.2225042e-20],\n",
       "       [1.7538664e-19, 1.0000000e+00, 9.2225042e-20],\n",
       "       [1.7538664e-19, 1.0000000e+00, 9.2225042e-20],\n",
       "       [1.7538664e-19, 1.0000000e+00, 9.2225042e-20],\n",
       "       [1.7538664e-19, 1.0000000e+00, 9.2225042e-20],\n",
       "       [1.7538664e-19, 1.0000000e+00, 9.2225042e-20],\n",
       "       [1.7538664e-19, 1.0000000e+00, 9.2225042e-20],\n",
       "       [1.7538664e-19, 1.0000000e+00, 9.2225042e-20],\n",
       "       [1.7538664e-19, 1.0000000e+00, 9.2225042e-20],\n",
       "       [1.7538664e-19, 1.0000000e+00, 9.2225042e-20],\n",
       "       [1.7538664e-19, 1.0000000e+00, 9.2225042e-20],\n",
       "       [1.7538664e-19, 1.0000000e+00, 9.2225042e-20],\n",
       "       [1.7538664e-19, 1.0000000e+00, 9.2225042e-20],\n",
       "       [1.7538664e-19, 1.0000000e+00, 9.2225042e-20],\n",
       "       [1.7538664e-19, 1.0000000e+00, 9.2225042e-20],\n",
       "       [1.7538664e-19, 1.0000000e+00, 9.2225042e-20],\n",
       "       [1.7538664e-19, 1.0000000e+00, 9.2225042e-20],\n",
       "       [1.7538664e-19, 1.0000000e+00, 9.2225042e-20],\n",
       "       [1.7538664e-19, 1.0000000e+00, 9.2225042e-20],\n",
       "       [1.7538664e-19, 1.0000000e+00, 9.2225042e-20],\n",
       "       [1.7538664e-19, 1.0000000e+00, 9.2225042e-20],\n",
       "       [1.7538664e-19, 1.0000000e+00, 9.2225042e-20],\n",
       "       [1.7538664e-19, 1.0000000e+00, 9.2225042e-20],\n",
       "       [1.7538664e-19, 1.0000000e+00, 9.2225042e-20],\n",
       "       [1.7538664e-19, 1.0000000e+00, 9.2225042e-20],\n",
       "       [1.7538664e-19, 1.0000000e+00, 9.2225042e-20],\n",
       "       [1.7538664e-19, 1.0000000e+00, 9.2225042e-20],\n",
       "       [1.7538664e-19, 1.0000000e+00, 9.2225042e-20],\n",
       "       [1.7538664e-19, 1.0000000e+00, 9.2225042e-20],\n",
       "       [1.7538664e-19, 1.0000000e+00, 9.2225042e-20],\n",
       "       [1.7538598e-19, 1.0000000e+00, 9.2225042e-20],\n",
       "       [1.7538598e-19, 1.0000000e+00, 9.2225042e-20],\n",
       "       [1.7538598e-19, 1.0000000e+00, 9.2225042e-20],\n",
       "       [1.7538598e-19, 1.0000000e+00, 9.2225042e-20],\n",
       "       [1.7538598e-19, 1.0000000e+00, 9.2225042e-20],\n",
       "       [1.7538598e-19, 1.0000000e+00, 9.2225042e-20],\n",
       "       [1.7538598e-19, 1.0000000e+00, 9.2225042e-20],\n",
       "       [1.7538598e-19, 1.0000000e+00, 9.2225042e-20],\n",
       "       [1.7538598e-19, 1.0000000e+00, 9.2225042e-20],\n",
       "       [1.7538598e-19, 1.0000000e+00, 9.2225042e-20],\n",
       "       [1.7538598e-19, 1.0000000e+00, 9.2225042e-20],\n",
       "       [1.7538598e-19, 1.0000000e+00, 9.2225042e-20],\n",
       "       [1.7538598e-19, 1.0000000e+00, 9.2225042e-20],\n",
       "       [1.7538598e-19, 1.0000000e+00, 9.2225042e-20]], dtype=float32)"
      ]
     },
     "execution_count": 60,
     "metadata": {},
     "output_type": "execute_result"
    }
   ],
   "source": [
    "preds = model.predict(X_test)\n",
    "preds"
   ]
  },
  {
   "cell_type": "code",
   "execution_count": null,
   "id": "8d8f17a8",
   "metadata": {},
   "outputs": [],
   "source": []
  }
 ],
 "metadata": {
  "kernelspec": {
   "display_name": "Python 3 (ipykernel)",
   "language": "python",
   "name": "python3"
  },
  "language_info": {
   "codemirror_mode": {
    "name": "ipython",
    "version": 3
   },
   "file_extension": ".py",
   "mimetype": "text/x-python",
   "name": "python",
   "nbconvert_exporter": "python",
   "pygments_lexer": "ipython3",
   "version": "3.10.9"
  }
 },
 "nbformat": 4,
 "nbformat_minor": 5
}
