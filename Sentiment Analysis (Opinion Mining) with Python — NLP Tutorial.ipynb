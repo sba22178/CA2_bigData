{
 "cells": [
  {
   "cell_type": "code",
   "execution_count": 1,
   "id": "03dbd160",
   "metadata": {
    "scrolled": true
   },
   "outputs": [],
   "source": [
    "import pandas as pd\n",
    "import numpy as np\n",
    "import seaborn as sns\n",
    "import re\n",
    "import string\n",
    "from string import punctuation\n",
    "import matplotlib.pyplot as plt\n",
    "from sklearn.model_selection import train_test_split\n",
    "from sklearn.feature_extraction.text import CountVectorizer\n",
    "from sklearn.feature_extraction.text import TfidfTransformer\n",
    "import tensorflow as tf\n",
    "from tensorflow.keras.models import Sequential\n",
    "from tensorflow.keras.layers import Dense, Activation, Dropout\n",
    "from tensorflow.keras.callbacks import EarlyStopping "
   ]
  },
  {
   "cell_type": "code",
   "execution_count": 21,
   "id": "2a3c8911",
   "metadata": {},
   "outputs": [],
   "source": [
    "import sklearn.linear_model"
   ]
  },
  {
   "cell_type": "code",
   "execution_count": 22,
   "id": "708c5cc0",
   "metadata": {},
   "outputs": [],
   "source": [
    "import sklearn.metrics"
   ]
  },
  {
   "cell_type": "code",
   "execution_count": 2,
   "id": "36a94e39",
   "metadata": {},
   "outputs": [],
   "source": [
    "#pip install tensorflow\n"
   ]
  },
  {
   "cell_type": "code",
   "execution_count": 3,
   "id": "f9e05c51",
   "metadata": {},
   "outputs": [
    {
     "data": {
      "text/plain": [
       "'C:\\\\Users\\\\Daniel\\\\OneDrive\\\\Documents\\\\MScData\\\\Semester2\\\\Adv Data Analysis'"
      ]
     },
     "execution_count": 3,
     "metadata": {},
     "output_type": "execute_result"
    }
   ],
   "source": [
    "pwd"
   ]
  },
  {
   "cell_type": "code",
   "execution_count": 24,
   "id": "559e53bc",
   "metadata": {},
   "outputs": [
    {
     "name": "stderr",
     "output_type": "stream",
     "text": [
      "C:\\Users\\Daniel\\AppData\\Local\\Temp\\ipykernel_1712\\2797416005.py:1: DtypeWarning: Columns (1) have mixed types. Specify dtype option on import or set low_memory=False.\n",
      "  df =pd.read_csv('TwitterDataSentiments.csv')\n"
     ]
    }
   ],
   "source": [
    "df =pd.read_csv('TwitterDataSentiments.csv')"
   ]
  },
  {
   "cell_type": "code",
   "execution_count": 25,
   "id": "a8771658",
   "metadata": {},
   "outputs": [
    {
     "data": {
      "text/html": [
       "<div>\n",
       "<style scoped>\n",
       "    .dataframe tbody tr th:only-of-type {\n",
       "        vertical-align: middle;\n",
       "    }\n",
       "\n",
       "    .dataframe tbody tr th {\n",
       "        vertical-align: top;\n",
       "    }\n",
       "\n",
       "    .dataframe thead th {\n",
       "        text-align: right;\n",
       "    }\n",
       "</style>\n",
       "<table border=\"1\" class=\"dataframe\">\n",
       "  <thead>\n",
       "    <tr style=\"text-align: right;\">\n",
       "      <th></th>\n",
       "      <th>Unnamed: 0</th>\n",
       "      <th>Date</th>\n",
       "      <th>Text</th>\n",
       "      <th>sentiments</th>\n",
       "    </tr>\n",
       "  </thead>\n",
       "  <tbody>\n",
       "    <tr>\n",
       "      <th>0</th>\n",
       "      <td>0</td>\n",
       "      <td>06/04/2009 22:19</td>\n",
       "      <td>switchfoot httptwitpiccomyzl a s bummer you sh...</td>\n",
       "      <td>Netural</td>\n",
       "    </tr>\n",
       "    <tr>\n",
       "      <th>1</th>\n",
       "      <td>1</td>\n",
       "      <td>06/04/2009 22:19</td>\n",
       "      <td>upset cant update facebook texting it might cr...</td>\n",
       "      <td>Netural</td>\n",
       "    </tr>\n",
       "    <tr>\n",
       "      <th>2</th>\n",
       "      <td>2</td>\n",
       "      <td>06/04/2009 22:19</td>\n",
       "      <td>kenichan i dived many times ball managed save ...</td>\n",
       "      <td>Positive</td>\n",
       "    </tr>\n",
       "    <tr>\n",
       "      <th>3</th>\n",
       "      <td>3</td>\n",
       "      <td>06/04/2009 22:19</td>\n",
       "      <td>whole body feels itchy like fire</td>\n",
       "      <td>Positive</td>\n",
       "    </tr>\n",
       "    <tr>\n",
       "      <th>4</th>\n",
       "      <td>4</td>\n",
       "      <td>06/04/2009 22:19</td>\n",
       "      <td>nationwideclass no not behaving all im mad her...</td>\n",
       "      <td>Negative</td>\n",
       "    </tr>\n",
       "    <tr>\n",
       "      <th>...</th>\n",
       "      <td>...</td>\n",
       "      <td>...</td>\n",
       "      <td>...</td>\n",
       "      <td>...</td>\n",
       "    </tr>\n",
       "    <tr>\n",
       "      <th>2097145</th>\n",
       "      <td>2097145</td>\n",
       "      <td>NaN</td>\n",
       "      <td>opened mouth insert foot chewed really hard ho...</td>\n",
       "      <td>Negative</td>\n",
       "    </tr>\n",
       "    <tr>\n",
       "      <th>2097146</th>\n",
       "      <td>2097146</td>\n",
       "      <td>NaN</td>\n",
       "      <td>trying move head potteringabout mode backtowor...</td>\n",
       "      <td>Netural</td>\n",
       "    </tr>\n",
       "    <tr>\n",
       "      <th>2097147</th>\n",
       "      <td>2097147</td>\n",
       "      <td>NaN</td>\n",
       "      <td>sick twice already im still going school feel ...</td>\n",
       "      <td>Negative</td>\n",
       "    </tr>\n",
       "    <tr>\n",
       "      <th>2097148</th>\n",
       "      <td>2097148</td>\n",
       "      <td>NaN</td>\n",
       "      <td>kherrylobrien boo ill blue side gotta keep mag...</td>\n",
       "      <td>Netural</td>\n",
       "    </tr>\n",
       "    <tr>\n",
       "      <th>2097149</th>\n",
       "      <td>2097149</td>\n",
       "      <td>NaN</td>\n",
       "      <td>love video cant uploaded chk it httpbitlyrhvko...</td>\n",
       "      <td>Positive</td>\n",
       "    </tr>\n",
       "  </tbody>\n",
       "</table>\n",
       "<p>2097150 rows × 4 columns</p>\n",
       "</div>"
      ],
      "text/plain": [
       "         Unnamed: 0              Date  \\\n",
       "0                 0  06/04/2009 22:19   \n",
       "1                 1  06/04/2009 22:19   \n",
       "2                 2  06/04/2009 22:19   \n",
       "3                 3  06/04/2009 22:19   \n",
       "4                 4  06/04/2009 22:19   \n",
       "...             ...               ...   \n",
       "2097145     2097145               NaN   \n",
       "2097146     2097146               NaN   \n",
       "2097147     2097147               NaN   \n",
       "2097148     2097148               NaN   \n",
       "2097149     2097149               NaN   \n",
       "\n",
       "                                                      Text sentiments  \n",
       "0        switchfoot httptwitpiccomyzl a s bummer you sh...    Netural  \n",
       "1        upset cant update facebook texting it might cr...    Netural  \n",
       "2        kenichan i dived many times ball managed save ...   Positive  \n",
       "3                         whole body feels itchy like fire   Positive  \n",
       "4        nationwideclass no not behaving all im mad her...   Negative  \n",
       "...                                                    ...        ...  \n",
       "2097145  opened mouth insert foot chewed really hard ho...   Negative  \n",
       "2097146  trying move head potteringabout mode backtowor...    Netural  \n",
       "2097147  sick twice already im still going school feel ...   Negative  \n",
       "2097148  kherrylobrien boo ill blue side gotta keep mag...    Netural  \n",
       "2097149  love video cant uploaded chk it httpbitlyrhvko...   Positive  \n",
       "\n",
       "[2097150 rows x 4 columns]"
      ]
     },
     "execution_count": 25,
     "metadata": {},
     "output_type": "execute_result"
    }
   ],
   "source": [
    "df"
   ]
  },
  {
   "cell_type": "code",
   "execution_count": 26,
   "id": "15473e6e",
   "metadata": {},
   "outputs": [],
   "source": [
    "df = df.drop(['Unnamed: 0', ],axis=1)\n",
    "df.dropna(inplace=True) "
   ]
  },
  {
   "cell_type": "code",
   "execution_count": 58,
   "id": "192b3fed",
   "metadata": {},
   "outputs": [
    {
     "data": {
      "text/html": [
       "<div>\n",
       "<style scoped>\n",
       "    .dataframe tbody tr th:only-of-type {\n",
       "        vertical-align: middle;\n",
       "    }\n",
       "\n",
       "    .dataframe tbody tr th {\n",
       "        vertical-align: top;\n",
       "    }\n",
       "\n",
       "    .dataframe thead th {\n",
       "        text-align: right;\n",
       "    }\n",
       "</style>\n",
       "<table border=\"1\" class=\"dataframe\">\n",
       "  <thead>\n",
       "    <tr style=\"text-align: right;\">\n",
       "      <th></th>\n",
       "      <th>Text</th>\n",
       "      <th>sentiments</th>\n",
       "    </tr>\n",
       "  </thead>\n",
       "  <tbody>\n",
       "    <tr>\n",
       "      <th>0</th>\n",
       "      <td>switchfoot httptwitpiccomyzl a s bummer you sh...</td>\n",
       "      <td>Netural</td>\n",
       "    </tr>\n",
       "    <tr>\n",
       "      <th>1</th>\n",
       "      <td>upset cant update facebook texting it might cr...</td>\n",
       "      <td>Netural</td>\n",
       "    </tr>\n",
       "    <tr>\n",
       "      <th>2</th>\n",
       "      <td>kenichan i dived many times ball managed save ...</td>\n",
       "      <td>Positive</td>\n",
       "    </tr>\n",
       "    <tr>\n",
       "      <th>3</th>\n",
       "      <td>whole body feels itchy like fire</td>\n",
       "      <td>Positive</td>\n",
       "    </tr>\n",
       "    <tr>\n",
       "      <th>4</th>\n",
       "      <td>nationwideclass no not behaving all im mad her...</td>\n",
       "      <td>Negative</td>\n",
       "    </tr>\n",
       "  </tbody>\n",
       "</table>\n",
       "</div>"
      ],
      "text/plain": [
       "                                                Text sentiments\n",
       "0  switchfoot httptwitpiccomyzl a s bummer you sh...    Netural\n",
       "1  upset cant update facebook texting it might cr...    Netural\n",
       "2  kenichan i dived many times ball managed save ...   Positive\n",
       "3                   whole body feels itchy like fire   Positive\n",
       "4  nationwideclass no not behaving all im mad her...   Negative"
      ]
     },
     "execution_count": 58,
     "metadata": {},
     "output_type": "execute_result"
    }
   ],
   "source": [
    "df = df[['Text', 'sentiments']]\n",
    "df.head() \n"
   ]
  },
  {
   "cell_type": "code",
   "execution_count": 63,
   "id": "5bcbf130",
   "metadata": {},
   "outputs": [
    {
     "name": "stderr",
     "output_type": "stream",
     "text": [
      "C:\\Users\\Daniel\\AppData\\Local\\Temp\\ipykernel_1712\\3686950812.py:2: SettingWithCopyWarning: \n",
      "A value is trying to be set on a copy of a slice from a DataFrame\n",
      "\n",
      "See the caveats in the documentation: https://pandas.pydata.org/pandas-docs/stable/user_guide/indexing.html#returning-a-view-versus-a-copy\n",
      "  df.drop([\"sentiments\"],axis=1, inplace=True)\n"
     ]
    },
    {
     "data": {
      "text/html": [
       "<div>\n",
       "<style scoped>\n",
       "    .dataframe tbody tr th:only-of-type {\n",
       "        vertical-align: middle;\n",
       "    }\n",
       "\n",
       "    .dataframe tbody tr th {\n",
       "        vertical-align: top;\n",
       "    }\n",
       "\n",
       "    .dataframe thead th {\n",
       "        text-align: right;\n",
       "    }\n",
       "</style>\n",
       "<table border=\"1\" class=\"dataframe\">\n",
       "  <thead>\n",
       "    <tr style=\"text-align: right;\">\n",
       "      <th></th>\n",
       "      <th>Text</th>\n",
       "      <th>Negative</th>\n",
       "      <th>Netural</th>\n",
       "      <th>Positive</th>\n",
       "    </tr>\n",
       "  </thead>\n",
       "  <tbody>\n",
       "    <tr>\n",
       "      <th>0</th>\n",
       "      <td>switchfoot httptwitpiccomyzl a s bummer you sh...</td>\n",
       "      <td>0</td>\n",
       "      <td>1</td>\n",
       "      <td>0</td>\n",
       "    </tr>\n",
       "    <tr>\n",
       "      <th>1</th>\n",
       "      <td>upset cant update facebook texting it might cr...</td>\n",
       "      <td>0</td>\n",
       "      <td>1</td>\n",
       "      <td>0</td>\n",
       "    </tr>\n",
       "    <tr>\n",
       "      <th>2</th>\n",
       "      <td>kenichan i dived many times ball managed save ...</td>\n",
       "      <td>0</td>\n",
       "      <td>0</td>\n",
       "      <td>1</td>\n",
       "    </tr>\n",
       "    <tr>\n",
       "      <th>3</th>\n",
       "      <td>whole body feels itchy like fire</td>\n",
       "      <td>0</td>\n",
       "      <td>0</td>\n",
       "      <td>1</td>\n",
       "    </tr>\n",
       "    <tr>\n",
       "      <th>4</th>\n",
       "      <td>nationwideclass no not behaving all im mad her...</td>\n",
       "      <td>1</td>\n",
       "      <td>0</td>\n",
       "      <td>0</td>\n",
       "    </tr>\n",
       "  </tbody>\n",
       "</table>\n",
       "</div>"
      ],
      "text/plain": [
       "                                                Text  Negative  Netural  \\\n",
       "0  switchfoot httptwitpiccomyzl a s bummer you sh...         0        1   \n",
       "1  upset cant update facebook texting it might cr...         0        1   \n",
       "2  kenichan i dived many times ball managed save ...         0        0   \n",
       "3                   whole body feels itchy like fire         0        0   \n",
       "4  nationwideclass no not behaving all im mad her...         1        0   \n",
       "\n",
       "   Positive  \n",
       "0         0  \n",
       "1         0  \n",
       "2         1  \n",
       "3         1  \n",
       "4         0  "
      ]
     },
     "execution_count": 63,
     "metadata": {},
     "output_type": "execute_result"
    }
   ],
   "source": [
    "one_hot = pd.get_dummies(df[\"sentiments\"])\n",
    "df.drop([\"sentiments\"],axis=1, inplace=True)\n",
    "df = pd.concat([df, one_hot], axis=1)\n",
    "df.head() \n"
   ]
  },
  {
   "cell_type": "code",
   "execution_count": 27,
   "id": "b7a9d380",
   "metadata": {},
   "outputs": [],
   "source": [
    "#sns.set_style('whitegrid')\n",
    "#'sns.countplot(x='Text',data=df,\n",
    "#palette='YlGnBu_r') "
   ]
  },
  {
   "cell_type": "code",
   "execution_count": 64,
   "id": "4b879de5",
   "metadata": {},
   "outputs": [],
   "source": [
    "df = df.head(10000)"
   ]
  },
  {
   "cell_type": "code",
   "execution_count": 65,
   "id": "ab1a4aaf",
   "metadata": {},
   "outputs": [],
   "source": [
    "X = df[\"Text\"].values\n",
    "y = df.drop([\"Text\"], axis=1).values\n",
    "#X_train, X_test, y_train, y_test = train_test_split(X, y, test_size=0.30, random_state=42) "
   ]
  },
  {
   "cell_type": "code",
   "execution_count": 66,
   "id": "f0e8f5cc",
   "metadata": {},
   "outputs": [],
   "source": [
    "X_train, X_test, y_train, y_test = train_test_split(X, y, test_size=0.30, random_state=42)"
   ]
  },
  {
   "cell_type": "code",
   "execution_count": 67,
   "id": "900fabc5",
   "metadata": {},
   "outputs": [],
   "source": [
    "#Apply vectorization:\n",
    "vect = CountVectorizer()\n",
    "X_train = vect.fit_transform(X_train)\n",
    "X_test = vect.transform(X_test) "
   ]
  },
  {
   "cell_type": "code",
   "execution_count": 68,
   "id": "e6d42999",
   "metadata": {},
   "outputs": [],
   "source": [
    "#Apply frequency, inverse document frequency:\n",
    "tfidf = TfidfTransformer()\n",
    "X_train = tfidf.fit_transform(X_train)\n",
    "X_test = tfidf.transform(X_test)\n",
    "X_train = X_train.toarray()\n",
    "X_test = X_test.toarray()"
   ]
  },
  {
   "cell_type": "code",
   "execution_count": 69,
   "id": "5a46d065",
   "metadata": {},
   "outputs": [],
   "source": [
    "#Build a Model with Deep Learning\n",
    "#Add different layers to models:\n",
    "model = Sequential()\n",
    "model.add(Dense(units=12673, activation=\"relu\"))\n",
    "model.add(Dropout(0.5))\n",
    "model.add(Dense(units=4000, activation=\"relu\"))\n",
    "model.add(Dropout(0.5))\n",
    "model.add(Dense(units=500, activation=\"relu\"))\n",
    "model.add(Dropout(0.5))\n",
    "model.add(Dense(units=3, activation=\"softmax\"))\n",
    "opt = tf.keras.optimizers.Adam(learning_rate=0.001)\n",
    "model.compile(loss=\"categorical_crossentropy\", optimizer=opt,\n",
    "metrics=[\"accuracy\"])\n",
    "early_stop = EarlyStopping(monitor=\"val_loss\", mode=\"min\", verbose=1,\n",
    "patience=2)"
   ]
  },
  {
   "cell_type": "code",
   "execution_count": 70,
   "id": "a49931e7",
   "metadata": {},
   "outputs": [
    {
     "name": "stdout",
     "output_type": "stream",
     "text": [
      "Epoch 1/100\n",
      "28/28 [==============================] - 115s 4s/step - loss: 0.8478 - accuracy: 0.5899 - val_loss: 0.6217 - val_accuracy: 0.7857\n",
      "Epoch 2/100\n",
      "28/28 [==============================] - 117s 4s/step - loss: 0.1420 - accuracy: 0.9561 - val_loss: 0.6312 - val_accuracy: 0.7783\n",
      "Epoch 3/100\n",
      "28/28 [==============================] - 123s 4s/step - loss: 0.0193 - accuracy: 0.9943 - val_loss: 0.8263 - val_accuracy: 0.8033\n",
      "Epoch 3: early stopping\n"
     ]
    },
    {
     "data": {
      "text/plain": [
       "<keras.callbacks.History at 0x1f30ada1d80>"
      ]
     },
     "execution_count": 70,
     "metadata": {},
     "output_type": "execute_result"
    }
   ],
   "source": [
    "#Fit the model:\n",
    "model.fit(x=X_train,y=y_train,batch_size=256,epochs=100,validation_data=(X_test, y_test),verbose=1,callbacks=early_stop,\n",
    ") "
   ]
  },
  {
   "cell_type": "code",
   "execution_count": null,
   "id": "4b94ec05",
   "metadata": {},
   "outputs": [],
   "source": []
  }
 ],
 "metadata": {
  "kernelspec": {
   "display_name": "Python 3 (ipykernel)",
   "language": "python",
   "name": "python3"
  },
  "language_info": {
   "codemirror_mode": {
    "name": "ipython",
    "version": 3
   },
   "file_extension": ".py",
   "mimetype": "text/x-python",
   "name": "python",
   "nbconvert_exporter": "python",
   "pygments_lexer": "ipython3",
   "version": "3.10.9"
  }
 },
 "nbformat": 4,
 "nbformat_minor": 5
}
