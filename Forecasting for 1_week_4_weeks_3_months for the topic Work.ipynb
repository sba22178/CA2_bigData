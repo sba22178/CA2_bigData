{
 "cells": [
  {
   "cell_type": "code",
   "execution_count": 10,
   "id": "2df6cfde",
   "metadata": {},
   "outputs": [],
   "source": [
    "#import the libaries\n",
    "import pandas as pd\n",
    "from statsmodels.tsa.arima.model import ARIMA"
   ]
  },
  {
   "cell_type": "code",
   "execution_count": 15,
   "id": "c0677d88",
   "metadata": {},
   "outputs": [],
   "source": [
    "import warnings\n",
    "warnings.filterwarnings('ignore')"
   ]
  },
  {
   "cell_type": "code",
   "execution_count": 11,
   "id": "de94d53b",
   "metadata": {},
   "outputs": [],
   "source": [
    "# Load the dataset\n",
    "data = pd.read_csv('SentimentsSplit.csv')"
   ]
  },
  {
   "cell_type": "code",
   "execution_count": 12,
   "id": "e6845f48",
   "metadata": {},
   "outputs": [],
   "source": [
    "# Prepare the dataset\n",
    "df = pd.DataFrame()\n",
    "df['Date'] = pd.to_datetime(data['Date'])\n",
    "df['Sentiments'] = pd.to_numeric(data['sentiments'], errors='coerce')  # Convert to numeric format"
   ]
  },
  {
   "cell_type": "code",
   "execution_count": 13,
   "id": "b2251393",
   "metadata": {},
   "outputs": [],
   "source": [
    "# Drop any rows with missing or invalid sentiment values\n",
    "df = df.dropna(subset=['Sentiments'])\n",
    "\n",
    "# Set the index as the date column\n",
    "df.set_index('Date', inplace=True)"
   ]
  },
  {
   "cell_type": "code",
   "execution_count": 16,
   "id": "4f0d249e",
   "metadata": {},
   "outputs": [
    {
     "name": "stdout",
     "output_type": "stream",
     "text": [
      "Forecasted Sentiments for 1 week:\n",
      "0.0\n",
      "Forecasted Sentiments for 1 month:\n",
      "0.0\n",
      "Forecasted Sentiments for 3 months:\n",
      "0.0\n"
     ]
    }
   ],
   "source": [
    "# Perform time-based forecasting\n",
    "model = ARIMA(df, order=(1, 1, 1))  # ARIMA(1, 1, 1) model\n",
    "model_fit = model.fit()\n",
    "\n",
    "# Make future predictions for 1 week, 1 month, and 3 months\n",
    "forecast_1w = model_fit.forecast(steps=7)#one week\n",
    "forecast_1m = model_fit.forecast(steps=30)#one month\n",
    "forecast_3m = model_fit.forecast(steps=90)#three months\n",
    "\n",
    "# Access the forecasted sentiment values\n",
    "forecasted_sentiments_1w = forecast_1w[0]\n",
    "forecasted_sentiments_1m = forecast_1m[0]\n",
    "forecasted_sentiments_3m = forecast_3m[0]\n",
    "\n",
    "# Print the forecasted sentiment values\n",
    "print(\"Forecasted Sentiments for 1 week:\")\n",
    "print(forecasted_sentiments_1w)\n",
    "\n",
    "print(\"Forecasted Sentiments for 1 month:\")\n",
    "print(forecasted_sentiments_1m)\n",
    "\n",
    "print(\"Forecasted Sentiments for 3 months:\")\n",
    "print(forecasted_sentiments_3m)\n"
   ]
  },
  {
   "cell_type": "markdown",
   "id": "de21e5d8",
   "metadata": {},
   "source": [
    "References:\n",
    "\n",
    "Facebook Prophet Documentation: https://facebook.github.io/prophet/\n",
    "Prophet GitHub Repository: https://github.com/facebook/prophet\n",
    "Statsmodels:\n",
    "\n",
    "Statsmodels Documentation: https://www.statsmodels.org/stable/index.html\n",
    "Statsmodels GitHub Repository: https://github.com/statsmodels/statsmodels\n",
    "ARIMA:\n",
    "\n",
    "ARIMA on Wikipedia: https://en.wikipedia.org/wiki/Autoregressive_integrated_moving_average\n",
    "Statsmodels ARIMA Documentation: https://www.statsmodels.org/stable/generated/statsmodels.tsa.arima.model.ARIMA.html"
   ]
  },
  {
   "cell_type": "code",
   "execution_count": null,
   "id": "0c07c97a",
   "metadata": {},
   "outputs": [],
   "source": []
  }
 ],
 "metadata": {
  "kernelspec": {
   "display_name": "Python 3 (ipykernel)",
   "language": "python",
   "name": "python3"
  },
  "language_info": {
   "codemirror_mode": {
    "name": "ipython",
    "version": 3
   },
   "file_extension": ".py",
   "mimetype": "text/x-python",
   "name": "python",
   "nbconvert_exporter": "python",
   "pygments_lexer": "ipython3",
   "version": "3.10.9"
  }
 },
 "nbformat": 4,
 "nbformat_minor": 5
}
